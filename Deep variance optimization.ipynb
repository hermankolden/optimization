{
 "cells": [
  {
   "cell_type": "markdown",
   "metadata": {},
   "source": [
    "# Variance optimization\n",
    "This notebook demonstrates the effect of the relative error tolerance."
   ]
  },
  {
   "cell_type": "code",
   "execution_count": 1,
   "metadata": {},
   "outputs": [],
   "source": [
    "from qiskit import *\n",
    "import numpy as np\n",
    "import pylab as pl\n",
    "import networkx as nx\n",
    "from qiskit.visualization import *\n",
    "from qaoa import *\n",
    "from pylab import cm\n",
    "from timeit import default_timer as timer\n",
    "\n",
    "from matplotlib import rc,patches\n",
    "from scipy import optimize as opt\n",
    "\n",
    "from qiskit.providers.aer.noise import NoiseModel\n",
    "from qiskit.test.mock import FakeOurense\n",
    "\n",
    "# Parameters when sampling the entire parameter space\n",
    "SAMPLING_E_ATOL = 8e-2\n",
    "SAMPLING_E_RTOL = 4e-2\n",
    "SAMPLING_DELTA_V_RTOL = 1e-1\n",
    "MIN_SAMPLES = 128#8192\n",
    "MAX_SAMPLES = 32768*8#8192\n",
    "SAMPLING_CONF_IDX = 2\n",
    "LANDSCAPE_RESOLUTION = 8\n",
    "\n",
    "# Other parameters\n",
    "CORRELATION_FRAC = 0.1\n",
    "WEIGHT_DECIMALS = 0\n",
    "NOISY = 0\n",
    "MOCK = (NOISY == 2)\n",
    "OPTIMIZATION_LEVEL = 2\n",
    "GRAPH_SEED = 51\n",
    "CIRCUIT_VERSION = 1\n",
    "CIRCUIT_DEPTH = 2\n",
    "\n",
    "# Parameters for error tolerance iterations\n",
    "N_INITIAL_GAMMA = 2\n",
    "N_INITIAL_BETA = 2\n",
    "N_REPS = 64\n",
    "MIN_ALPHA = 0\n",
    "MAX_ALPHA = 1\n",
    "N_ALPHA = 5\n",
    "N_INITIAL_POINTS = (N_INITIAL_GAMMA * N_INITIAL_BETA)**CIRCUIT_DEPTH\n",
    "\n",
    "\n",
    "font = {'size' : 16}\n",
    "rc('font', **font);\n",
    "rc('text', usetex=True)"
   ]
  },
  {
   "cell_type": "code",
   "execution_count": 2,
   "metadata": {},
   "outputs": [
    {
     "name": "stdout",
     "output_type": "stream",
     "text": [
      "0.0 %\r",
      "100%\n",
      "Max cost: 6\n"
     ]
    },
    {
     "data": {
      "image/png": "[encoded data removed]",
      "text/plain": [
       "<Figure size 720x432 with 1 Axes>"
      ]
     },
     "metadata": {},
     "output_type": "display_data"
    }
   ],
   "source": [
    "#V = np.arange(0,5,1)\n",
    "V = np.arange(0,6,1)\n",
    "E =[(0,1),(0,2),(2,3),(3,1),(3,4),(4,2),(0,5)]\n",
    "#E =[(0,1),(0,2),(2,3),(3,1),(3,4),(4,2)]\n",
    "G = nx.Graph()\n",
    "G.add_nodes_from(V)\n",
    "G.add_edges_from(E)\n",
    "\n",
    "np.random.seed(GRAPH_SEED)\n",
    "addWeights_MaxCut(G,decimals=WEIGHT_DECIMALS)\n",
    "\n",
    "pl.figure(figsize=(10,6))\n",
    "pos = nx.spring_layout(G)\n",
    "labels = nx.get_edge_attributes(G,'weight')\n",
    "nx.draw_networkx(G,pos)\n",
    "nx.draw_networkx_edge_labels(G,pos,edge_labels=labels)\n",
    "\n",
    "V1 = np.arange(0,)\n",
    "costs=costsHist_MaxCut(G)\n",
    "max_cost = max(costs)\n",
    "print('Max cost: %d' % max_cost)"
   ]
  },
  {
   "cell_type": "code",
   "execution_count": 3,
   "metadata": {},
   "outputs": [],
   "source": [
    "execute_backend = Aer.get_backend('qasm_simulator')\n",
    "\n",
    "if NOISY == 1:\n",
    "    IBMQ.load_account()\n",
    "    provider = IBMQ.get_provider(hub='ibm-q')\n",
    "    noise_backend = provider.get_backend('ibmq_ourense')\n",
    "    transpile_backend = noise_backend\n",
    "elif NOISY == 2:\n",
    "    execute_backend = FakeOurense()\n",
    "    transpile_backend = execute_backend\n",
    "    noise_backend = execute_backend\n",
    "else:\n",
    "    noise_backend = None\n",
    "    transpile_backend = execute_backend\n",
    "    \n",
    "if noise_backend == None:\n",
    "    noise_model = None\n",
    "else:\n",
    "    noise_model = NoiseModel.from_backend(noise_backend.properties())"
   ]
  },
  {
   "cell_type": "markdown",
   "metadata": {},
   "source": [
    "Prepare the initial points from which we will do the optimizations."
   ]
  },
  {
   "cell_type": "code",
   "execution_count": 4,
   "metadata": {},
   "outputs": [],
   "source": [
    "def cartesian(arrays, out=None):\n",
    "    \"\"\"\n",
    "    Generate a cartesian product of input arrays.\n",
    "\n",
    "    Parameters\n",
    "    ----------\n",
    "    arrays : list of array-like\n",
    "        1-D arrays to form the cartesian product of.\n",
    "    out : ndarray\n",
    "        Array to place the cartesian product in.\n",
    "\n",
    "    Returns\n",
    "    -------\n",
    "    out : ndarray\n",
    "        2-D array of shape (M, len(arrays)) containing cartesian products\n",
    "        formed of input arrays.\n",
    "\n",
    "    Examples\n",
    "    --------\n",
    "    >>> cartesian(([1, 2, 3], [4, 5], [6, 7]))\n",
    "    array([[1, 4, 6],\n",
    "           [1, 4, 7],\n",
    "           [1, 5, 6],\n",
    "           [1, 5, 7],\n",
    "           [2, 4, 6],\n",
    "           [2, 4, 7],\n",
    "           [2, 5, 6],\n",
    "           [2, 5, 7],\n",
    "           [3, 4, 6],\n",
    "           [3, 4, 7],\n",
    "           [3, 5, 6],\n",
    "           [3, 5, 7]])\n",
    "\n",
    "    \"\"\"\n",
    "\n",
    "    arrays = [np.asarray(x) for x in arrays]\n",
    "    dtype = arrays[0].dtype\n",
    "\n",
    "    n = np.prod([x.size for x in arrays])\n",
    "    if out is None:\n",
    "        out = np.zeros([n, len(arrays)], dtype=dtype)\n",
    "\n",
    "    m = int(n / arrays[0].size)\n",
    "    out[:,0] = np.repeat(arrays[0], m)\n",
    "    if arrays[1:]:\n",
    "        cartesian(arrays[1:], out=out[0:m, 1:])\n",
    "        for j in range(1, arrays[0].size):\n",
    "            out[j*m:(j+1)*m, 1:] = out[0:m, 1:]\n",
    "    return out"
   ]
  },
  {
   "cell_type": "code",
   "execution_count": 5,
   "metadata": {},
   "outputs": [],
   "source": [
    "(gamma_min,gamma_max),(beta_min,beta_max) = parameterBounds_MaxCut(G,decimals=WEIGHT_DECIMALS)\n",
    "gamma_period = (gamma_max-gamma_min)*2\n",
    "beta_period = beta_max-beta_min\n",
    "\n",
    "delta_gamma = (gamma_max-gamma_min)/N_INITIAL_GAMMA\n",
    "delta_beta = (beta_max-beta_min)/N_INITIAL_BETA\n",
    "\n",
    "initial_gammas = np.linspace(gamma_min+delta_gamma/2,gamma_max-delta_gamma/2,N_INITIAL_GAMMA)\n",
    "initial_betas = np.linspace(beta_min+delta_beta/2,beta_max-delta_beta/2,N_INITIAL_BETA)\n",
    "\n",
    "initial_points = cartesian((initial_gammas,initial_betas)*CIRCUIT_DEPTH)"
   ]
  },
  {
   "cell_type": "markdown",
   "metadata": {},
   "source": [
    "Now we iterate over each of **N_ALPHA** alphas. For each of them, do **N_REPS** optimization runs at each of the **N_INITIAL_POINTS** parameters space lattice points."
   ]
  },
  {
   "cell_type": "code",
   "execution_count": 6,
   "metadata": {},
   "outputs": [],
   "source": [
    "# Alpha denotes the relative expectation-variance weighting in the cost function\n",
    "def getval(x,history_ref,execute_backend,depth,version,noise_model,E_atol,E_rtol,dv_rtol,\n",
    "           min_n_shots,max_n_shots,conf_idx,alpha,mock,optimization_level):\n",
    "    circuit = createCircuit_MaxCut(x,G,depth,version)\n",
    "    \n",
    "    transpiled_circuit = transpile(circuit,backend=transpile_backend,optimization_level=optimization_level)\n",
    "    [E_list,v_list,n_list] = sampleUntilPrecision_MaxCut(transpiled_circuit,G,execute_backend,noise_model,\n",
    "                                                                min_n_shots,max_n_shots,E_atol,E_rtol,dv_rtol,\n",
    "                                                                conf_idx,mock=mock)\n",
    "\n",
    "    history_ref['gammas'].append(x[0])\n",
    "    history_ref['betas'].append(x[1])\n",
    "    history_ref['expectations'].append(E_list)\n",
    "    history_ref['variances'].append(v_list)\n",
    "    history_ref['n_shots'].append(n_list)\n",
    "        \n",
    "    return -(1-alpha)*E_list[-1]+alpha*v_list[-1]"
   ]
  },
  {
   "cell_type": "code",
   "execution_count": 7,
   "metadata": {},
   "outputs": [
    {
     "name": "stdout",
     "output_type": "stream",
     "text": [
      "100.00% (T-0.00 sec))\r"
     ]
    }
   ],
   "source": [
    "alphas = np.linspace(MIN_ALPHA,MAX_ALPHA,N_ALPHA)\n",
    "\n",
    "opt_histories = []\n",
    "timer_start = timer()\n",
    "for i in range(N_ALPHA):\n",
    "    alpha = alphas[i]\n",
    "    \n",
    "    opt_histories.append([])\n",
    "    for j in range(N_INITIAL_POINTS):\n",
    "        x0 = initial_points[j]\n",
    "        \n",
    "        timer_start = timer()\n",
    "        opt_histories[i].append([])\n",
    "        for k in range(N_REPS):\n",
    "        \n",
    "            opt_history = {\n",
    "                'gammas': [],\n",
    "                'betas': [],\n",
    "                'expectations': [],\n",
    "                'variances': [],\n",
    "                'n_shots': [],\n",
    "            }\n",
    "            opt.minimize(getval, x0=x0, method='COBYLA',\n",
    "                             args=(opt_history,execute_backend,CIRCUIT_DEPTH,CIRCUIT_VERSION,noise_model,\n",
    "                                   SAMPLING_E_ATOL,SAMPLING_E_RTOL,SAMPLING_DELTA_V_RTOL,MIN_SAMPLES,MAX_SAMPLES,\n",
    "                                   SAMPLING_CONF_IDX,alpha,MOCK,OPTIMIZATION_LEVEL),\n",
    "                             options={'rhobeg': 1e-1, 'disp': True, 'maxiter': 10000})\n",
    "            \n",
    "            opt_histories[i][j].append(opt_history)\n",
    "            timer_end = timer()\n",
    "            progress = (i*N_INITIAL_POINTS*N_REPS+j*N_REPS+k+1)/(N_ALPHA*N_INITIAL_POINTS*N_REPS)\n",
    "            remaining_time = (timer_end-timer_start)*(1/progress-1)\n",
    "            print('%.2f%% (T-%.2f sec)' % (progress*100,remaining_time),end='\\r')  \n",
    "        \n"
   ]
  },
  {
   "cell_type": "markdown",
   "metadata": {},
   "source": [
    "Finally we plot histograms for the achieved optimization ratios, as well as iterations and total shots per optimization."
   ]
  },
  {
   "cell_type": "code",
   "execution_count": 8,
   "metadata": {},
   "outputs": [
    {
     "data": {
      "text/plain": [
       "<Figure size 432x288 with 0 Axes>"
      ]
     },
     "metadata": {},
     "output_type": "display_data"
    },
    {
     "data": {
      "image/png": "[encoded data removed]",
      "text/plain": [
       "<Figure size 432x288 with 5 Axes>"
      ]
     },
     "metadata": {
      "needs_background": "light"
     },
     "output_type": "display_data"
    },
    {
     "data": {
      "text/plain": [
       "<Figure size 432x288 with 0 Axes>"
      ]
     },
     "metadata": {},
     "output_type": "display_data"
    },
    {
     "data": {
      "image/png": "[encoded data removed]",
      "text/plain": [
       "<Figure size 432x288 with 5 Axes>"
      ]
     },
     "metadata": {
      "needs_background": "light"
     },
     "output_type": "display_data"
    },
    {
     "data": {
      "text/plain": [
       "<Figure size 432x288 with 0 Axes>"
      ]
     },
     "metadata": {},
     "output_type": "display_data"
    },
    {
     "data": {
      "image/png": "[encoded data removed]",
      "text/plain": [
       "<Figure size 432x288 with 5 Axes>"
      ]
     },
     "metadata": {
      "needs_background": "light"
     },
     "output_type": "display_data"
    }
   ],
   "source": [
    "n_datapoints = N_REPS*N_INITIAL_POINTS\n",
    "\n",
    "apx_ratios = np.zeros((N_ALPHA,n_datapoints))\n",
    "n_itss = np.zeros((N_ALPHA,n_datapoints))\n",
    "n_shotss = np.zeros((N_ALPHA,n_datapoints))\n",
    "\n",
    "\n",
    "for i in range(N_ALPHA):\n",
    "    for j in range(N_INITIAL_POINTS):\n",
    "        for k in range(N_REPS):\n",
    "            opt_history = opt_histories[i][j][k]\n",
    "            \n",
    "            n_shots_list = [sum(x) for x in opt_history['n_shots']]\n",
    "            E = opt_history['expectations'][-1]\n",
    "            \n",
    "            tot_n_shots = sum(n_shots_list)\n",
    "            n_its = len(n_shots_list)\n",
    "            apx_ratio = E[-1]/max_cost\n",
    "\n",
    "            flat_idx = j*N_REPS + k\n",
    "            apx_ratios[i,flat_idx] = apx_ratio\n",
    "            n_itss[i,flat_idx] = n_its\n",
    "            n_shotss[i,flat_idx] = tot_n_shots\n",
    "            \n",
    "pl.figure()\n",
    "_,axs = pl.subplots(N_ALPHA,1,sharex=True,sharey='col')\n",
    "for i in range(N_ALPHA):\n",
    "    binsize = 0.001\n",
    "    apx_ratios_flat = apx_ratios[i].flatten()\n",
    "    n_bins = int(np.ceil((max(apx_ratios_flat)-min(apx_ratios_flat))/binsize))\n",
    "    \n",
    "    axs[i].hist(apx_ratios_flat,n_bins,label='Distribution, $\\\\alpha=%.2e$'%alphas[i])\n",
    "    axs[i].axvline(np.average(apx_ratios_flat),color='k')\n",
    "    axs[i].set_ylabel('$\\\\alpha = %.1f$' % alphas[i])\n",
    "    axs[i].set_yticks([])\n",
    "    axs[i].set_xlim(0.5,1.0)\n",
    "pl.xlabel('Approximation ratio')\n",
    "pl.suptitle('Approximation ratio distributions')\n",
    "pl.savefig('var_alpha_E_pdf_p%d_noise%d.svg'%(CIRCUIT_DEPTH,NOISY))\n",
    "pl.savefig('var_alpha_E_pdf_p%d_noise%d.png'%(CIRCUIT_DEPTH,NOISY))\n",
    "\n",
    "pl.figure()\n",
    "_,axs = pl.subplots(N_ALPHA,1,sharex=True,sharey='col')\n",
    "for i in range(N_ALPHA):\n",
    "    binsize = 1\n",
    "    n_its_flat = n_itss[i].flatten()\n",
    "    n_bins = int(np.ceil((max(n_its_flat)-min(n_its_flat))/binsize))\n",
    "    \n",
    "    axs[i].hist(n_its_flat,n_bins,label='Distribution, $\\\\alpha=%.2e$'%alphas[i])\n",
    "    axs[i].axvline(np.average(n_its_flat),color='k')\n",
    "    axs[i].set_ylabel('$\\\\alpha=%.1f$' % alphas[i])\n",
    "    axs[i].set_yticks([])\n",
    "pl.xlabel('Iteration count')\n",
    "pl.suptitle('Iteration count distributions')\n",
    "pl.savefig('var_alpha_its_pdf_p%d_noise%d.svg'%(CIRCUIT_DEPTH,NOISY))\n",
    "pl.savefig('var_alpha_its_pdf_p%d_noise%d.png'%(CIRCUIT_DEPTH,NOISY))\n",
    "\n",
    "pl.figure()\n",
    "_,axs = pl.subplots(N_ALPHA,1,sharex=True,sharey='col')\n",
    "for i in range(N_ALPHA):\n",
    "    binsize = 1000\n",
    "    n_shots_flat = n_shotss[i].flatten()\n",
    "    n_bins = int(np.ceil((max(n_shots_flat)-min(n_shots_flat))/binsize))\n",
    "    \n",
    "    axs[i].hist(n_shots_flat,n_bins,label='Distribution, $\\\\alpha=%.2e$'%alphas[i])\n",
    "    axs[i].axvline(np.average(n_shots_flat),color='k')\n",
    "    axs[i].set_ylabel('$\\\\alpha=%.1f$' % alphas[i])\n",
    "    axs[i].set_yticks([])\n",
    "pl.xlabel('Total shots')\n",
    "pl.suptitle('Total shots distributions')\n",
    "pl.savefig('var_alpha_shots_pdf_p%d_noise%d.svg'%(CIRCUIT_DEPTH,NOISY))\n",
    "pl.savefig('var_alpha_shots_pdf_p%d_noise%d.png'%(CIRCUIT_DEPTH,NOISY))"
   ]
  }
 ],
 "metadata": {
  "kernelspec": {
   "display_name": "Python 3",
   "language": "python",
   "name": "python3"
  },
  "language_info": {
   "codemirror_mode": {
    "name": "ipython",
    "version": 3
   },
   "file_extension": ".py",
   "mimetype": "text/x-python",
   "name": "python",
   "nbconvert_exporter": "python",
   "pygments_lexer": "ipython3",
   "version": "3.7.3"
  }
 },
 "nbformat": 4,
 "nbformat_minor": 4
}
